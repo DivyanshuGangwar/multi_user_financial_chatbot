{
 "cells": [
  {
   "cell_type": "code",
   "execution_count": null,
   "id": "3d8f88aa",
   "metadata": {
    "vscode": {
     "languageId": "plaintext"
    }
   },
   "outputs": [],
   "source": [
    "%pip install -U requirements.txt"
   ]
  },
  {
   "cell_type": "code",
   "execution_count": null,
   "id": "c396dbec",
   "metadata": {
    "vscode": {
     "languageId": "plaintext"
    }
   },
   "outputs": [],
   "source": [
    "import os \n",
    "from session_manager import GradioSessionsManager\n",
    "\n",
    "os.environ[\"GROQ_API_KEY\"] = userdata.get('groq_api_key')\n",
    "NO_OF_USERS = 4\n",
    "\n",
    "DOC_PATHS = {\n",
    "    \"Session_1\":'/content/data/Company_A_stmt.png',\n",
    "    \"Session_2\":'/content/data/Company_B_stmt.png',\n",
    "    \"Session_3\":'/content/data/Company_C_stmt.png',\n",
    "    \"Session_4\":'/content/data/Company_D_stmt.png',\n",
    "\n",
    "}"
   ]
  },
  {
   "cell_type": "code",
   "execution_count": null,
   "id": "570caff2",
   "metadata": {
    "vscode": {
     "languageId": "plaintext"
    }
   },
   "outputs": [],
   "source": [
    "# main function to run \n",
    "setup_obj = GradioSessionsManager()\n",
    "setup_obj.create_setups(NO_OF_USERS)"
   ]
  }
 ],
 "metadata": {
  "language_info": {
   "name": "python"
  }
 },
 "nbformat": 4,
 "nbformat_minor": 5
}
